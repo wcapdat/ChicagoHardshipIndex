{
 "cells": [
  {
   "cell_type": "markdown",
   "metadata": {},
   "source": [
    "<h1> 1. Introduction\n"
   ]
  },
  {
   "cell_type": "markdown",
   "metadata": {},
   "source": [
    "This notebook can be used to compute the 5 number summaries for the hardship index and each of the 6 raw hardship indicators for the period ending in 2017.(A simple modification gives the same for 2014 and the normalized indicators).\n",
    "\n",
    "<ul>\n",
    "    <li> HI = hardship index </li>\n",
    "    <li> UNEMP = % of community age 16 and older who are unemployed. </li>\n",
    "     <li> NOHS = % of community age 25 and older without a high school diploma. </li>\n",
    "         <li> DEP = % of community who are dependent (under age 18 or over age 64). </li>\n",
    "             <li> HOUS= % of community with overcrowded housing (more than 1 occupant per room).</li>\n",
    "                 <li> POV = % below federal poverty line\n",
    "    <li> INC = per capita income.</li>\n",
    "             \n",
    " Data Source: https://greatcities.uic.edu/wp-content/uploads/2016/07/GCI-Hardship-Index-Fact-SheetV2.pdf (2010-2014) https://greatcities.uic.edu/wp-content/uploads/2019/12/Hardship-Index-Fact-Sheet-2017-ACS-Final-1.pdf (2013-2017).    "
   ]
  },
  {
   "cell_type": "markdown",
   "metadata": {},
   "source": [
    "<h1> 2. Dataframes"
   ]
  },
  {
   "cell_type": "markdown",
   "metadata": {},
   "source": [
    "2a) We begin by importing Python's data analytics (pandas) and Numerical Python (numpy) libraries. (Press shift+enter to execute each cell)"
   ]
  },
  {
   "cell_type": "code",
   "execution_count": 1,
   "metadata": {},
   "outputs": [],
   "source": [
    "import pandas as pd\n",
    "import numpy as np"
   ]
  },
  {
   "cell_type": "markdown",
   "metadata": {},
   "source": [
    "2b) We use pandas (pd) to import the data file 'HI20142017.xlsx' to a dataframe called \"raw_hardship\"."
   ]
  },
  {
   "cell_type": "code",
   "execution_count": 2,
   "metadata": {},
   "outputs": [
    {
     "data": {
      "text/html": [
       "<div>\n",
       "<style scoped>\n",
       "    .dataframe tbody tr th:only-of-type {\n",
       "        vertical-align: middle;\n",
       "    }\n",
       "\n",
       "    .dataframe tbody tr th {\n",
       "        vertical-align: top;\n",
       "    }\n",
       "\n",
       "    .dataframe thead th {\n",
       "        text-align: right;\n",
       "    }\n",
       "</style>\n",
       "<table border=\"1\" class=\"dataframe\">\n",
       "  <thead>\n",
       "    <tr style=\"text-align: right;\">\n",
       "      <th></th>\n",
       "      <th>Community</th>\n",
       "      <th>HI14</th>\n",
       "      <th>UNEMP14</th>\n",
       "      <th>NOHS14</th>\n",
       "      <th>DEP14</th>\n",
       "      <th>HOUS14</th>\n",
       "      <th>POV14</th>\n",
       "      <th>INC14</th>\n",
       "      <th>HI17</th>\n",
       "      <th>UNEMP17</th>\n",
       "      <th>NOHS17</th>\n",
       "      <th>DEP17</th>\n",
       "      <th>HOUS17</th>\n",
       "      <th>POV17</th>\n",
       "      <th>INC17</th>\n",
       "    </tr>\n",
       "  </thead>\n",
       "  <tbody>\n",
       "    <tr>\n",
       "      <th>0</th>\n",
       "      <td>Rogers Park</td>\n",
       "      <td>39.7</td>\n",
       "      <td>9.3</td>\n",
       "      <td>16.4</td>\n",
       "      <td>27.2</td>\n",
       "      <td>7.1</td>\n",
       "      <td>24.0</td>\n",
       "      <td>24323</td>\n",
       "      <td>39.4</td>\n",
       "      <td>7.7</td>\n",
       "      <td>9.5</td>\n",
       "      <td>26.2</td>\n",
       "      <td>6.6</td>\n",
       "      <td>22.6</td>\n",
       "      <td>25874</td>\n",
       "    </tr>\n",
       "    <tr>\n",
       "      <th>1</th>\n",
       "      <td>West Ridge</td>\n",
       "      <td>44.3</td>\n",
       "      <td>10.0</td>\n",
       "      <td>17.1</td>\n",
       "      <td>38.3</td>\n",
       "      <td>7.6</td>\n",
       "      <td>17.4</td>\n",
       "      <td>23498</td>\n",
       "      <td>47.3</td>\n",
       "      <td>8.6</td>\n",
       "      <td>11.7</td>\n",
       "      <td>37.9</td>\n",
       "      <td>7.7</td>\n",
       "      <td>16.8</td>\n",
       "      <td>24721</td>\n",
       "    </tr>\n",
       "  </tbody>\n",
       "</table>\n",
       "</div>"
      ],
      "text/plain": [
       "     Community  HI14  UNEMP14  NOHS14  DEP14  HOUS14  POV14  INC14  HI17  \\\n",
       "0  Rogers Park  39.7      9.3    16.4   27.2     7.1   24.0  24323  39.4   \n",
       "1   West Ridge  44.3     10.0    17.1   38.3     7.6   17.4  23498  47.3   \n",
       "\n",
       "   UNEMP17  NOHS17  DEP17  HOUS17  POV17  INC17  \n",
       "0      7.7     9.5   26.2     6.6   22.6  25874  \n",
       "1      8.6    11.7   37.9     7.7   16.8  24721  "
      ]
     },
     "execution_count": 2,
     "metadata": {},
     "output_type": "execute_result"
    }
   ],
   "source": [
    "raw_hardship=pd.read_excel('HI20142017.xlsx')\n",
    "raw_hardship.head(2)"
   ]
  },
  {
   "cell_type": "markdown",
   "metadata": {},
   "source": [
    "2c) Let's separate the 2014 and 2017 hardship index (HI) data into two dataframes called \"dfHI14\" and \"dfHI17\". The column names will reflect the year."
   ]
  },
  {
   "cell_type": "code",
   "execution_count": 3,
   "metadata": {},
   "outputs": [],
   "source": [
    "dfHI14=raw_hardship[[\"Community\",\"HI14\",\"UNEMP14\",\"NOHS14\",\"DEP14\",\"HOUS14\",\"POV14\",\"INC14\"]]\n",
    "dfHI14 = dfHI14.rename(columns = {'Community':'Community14'})\n",
    "dfHI17=raw_hardship[[\"Community\",\"HI17\",\"UNEMP17\",\"NOHS17\",\"DEP17\",\"HOUS17\",\"POV17\",\"INC17\"]]\n",
    "dfHI17 = dfHI17.rename(columns = {'Community':'Community17'})"
   ]
  },
  {
   "cell_type": "markdown",
   "metadata": {},
   "source": [
    "2d) Let's check the 2014 data."
   ]
  },
  {
   "cell_type": "code",
   "execution_count": 4,
   "metadata": {},
   "outputs": [
    {
     "data": {
      "text/html": [
       "<div>\n",
       "<style scoped>\n",
       "    .dataframe tbody tr th:only-of-type {\n",
       "        vertical-align: middle;\n",
       "    }\n",
       "\n",
       "    .dataframe tbody tr th {\n",
       "        vertical-align: top;\n",
       "    }\n",
       "\n",
       "    .dataframe thead th {\n",
       "        text-align: right;\n",
       "    }\n",
       "</style>\n",
       "<table border=\"1\" class=\"dataframe\">\n",
       "  <thead>\n",
       "    <tr style=\"text-align: right;\">\n",
       "      <th></th>\n",
       "      <th>Community14</th>\n",
       "      <th>HI14</th>\n",
       "      <th>UNEMP14</th>\n",
       "      <th>NOHS14</th>\n",
       "      <th>DEP14</th>\n",
       "      <th>HOUS14</th>\n",
       "      <th>POV14</th>\n",
       "      <th>INC14</th>\n",
       "    </tr>\n",
       "  </thead>\n",
       "  <tbody>\n",
       "    <tr>\n",
       "      <th>0</th>\n",
       "      <td>Rogers Park</td>\n",
       "      <td>39.7</td>\n",
       "      <td>9.3</td>\n",
       "      <td>16.4</td>\n",
       "      <td>27.2</td>\n",
       "      <td>7.1</td>\n",
       "      <td>24.0</td>\n",
       "      <td>24323</td>\n",
       "    </tr>\n",
       "    <tr>\n",
       "      <th>1</th>\n",
       "      <td>West Ridge</td>\n",
       "      <td>44.3</td>\n",
       "      <td>10.0</td>\n",
       "      <td>17.1</td>\n",
       "      <td>38.3</td>\n",
       "      <td>7.6</td>\n",
       "      <td>17.4</td>\n",
       "      <td>23498</td>\n",
       "    </tr>\n",
       "  </tbody>\n",
       "</table>\n",
       "</div>"
      ],
      "text/plain": [
       "   Community14  HI14  UNEMP14  NOHS14  DEP14  HOUS14  POV14  INC14\n",
       "0  Rogers Park  39.7      9.3    16.4   27.2     7.1   24.0  24323\n",
       "1   West Ridge  44.3     10.0    17.1   38.3     7.6   17.4  23498"
      ]
     },
     "execution_count": 4,
     "metadata": {},
     "output_type": "execute_result"
    }
   ],
   "source": [
    "dfHI14.head(2)"
   ]
  },
  {
   "cell_type": "markdown",
   "metadata": {},
   "source": [
    "2d) Let's also check the 2017 data."
   ]
  },
  {
   "cell_type": "code",
   "execution_count": 5,
   "metadata": {},
   "outputs": [
    {
     "data": {
      "text/html": [
       "<div>\n",
       "<style scoped>\n",
       "    .dataframe tbody tr th:only-of-type {\n",
       "        vertical-align: middle;\n",
       "    }\n",
       "\n",
       "    .dataframe tbody tr th {\n",
       "        vertical-align: top;\n",
       "    }\n",
       "\n",
       "    .dataframe thead th {\n",
       "        text-align: right;\n",
       "    }\n",
       "</style>\n",
       "<table border=\"1\" class=\"dataframe\">\n",
       "  <thead>\n",
       "    <tr style=\"text-align: right;\">\n",
       "      <th></th>\n",
       "      <th>Community17</th>\n",
       "      <th>HI17</th>\n",
       "      <th>UNEMP17</th>\n",
       "      <th>NOHS17</th>\n",
       "      <th>DEP17</th>\n",
       "      <th>HOUS17</th>\n",
       "      <th>POV17</th>\n",
       "      <th>INC17</th>\n",
       "    </tr>\n",
       "  </thead>\n",
       "  <tbody>\n",
       "    <tr>\n",
       "      <th>0</th>\n",
       "      <td>Rogers Park</td>\n",
       "      <td>39.4</td>\n",
       "      <td>7.7</td>\n",
       "      <td>9.5</td>\n",
       "      <td>26.2</td>\n",
       "      <td>6.6</td>\n",
       "      <td>22.6</td>\n",
       "      <td>25874</td>\n",
       "    </tr>\n",
       "    <tr>\n",
       "      <th>1</th>\n",
       "      <td>West Ridge</td>\n",
       "      <td>47.3</td>\n",
       "      <td>8.6</td>\n",
       "      <td>11.7</td>\n",
       "      <td>37.9</td>\n",
       "      <td>7.7</td>\n",
       "      <td>16.8</td>\n",
       "      <td>24721</td>\n",
       "    </tr>\n",
       "  </tbody>\n",
       "</table>\n",
       "</div>"
      ],
      "text/plain": [
       "   Community17  HI17  UNEMP17  NOHS17  DEP17  HOUS17  POV17  INC17\n",
       "0  Rogers Park  39.4      7.7     9.5   26.2     6.6   22.6  25874\n",
       "1   West Ridge  47.3      8.6    11.7   37.9     7.7   16.8  24721"
      ]
     },
     "execution_count": 5,
     "metadata": {},
     "output_type": "execute_result"
    }
   ],
   "source": [
    "dfHI17.head(2)"
   ]
  },
  {
   "cell_type": "code",
   "execution_count": 6,
   "metadata": {},
   "outputs": [],
   "source": [
    "# Get dataset\n",
    "def normalized(df,column):\n",
    "    temp=[]\n",
    "    for i in df.index:\n",
    "        temp.append(100*(df.loc[i,column]-np.min(df[column]))/(np.max(df[column])-np.min(df[column])))\n",
    "    return pd.Series(temp)"
   ]
  },
  {
   "cell_type": "code",
   "execution_count": 7,
   "metadata": {},
   "outputs": [
    {
     "data": {
      "text/html": [
       "<div>\n",
       "<style scoped>\n",
       "    .dataframe tbody tr th:only-of-type {\n",
       "        vertical-align: middle;\n",
       "    }\n",
       "\n",
       "    .dataframe tbody tr th {\n",
       "        vertical-align: top;\n",
       "    }\n",
       "\n",
       "    .dataframe thead th {\n",
       "        text-align: right;\n",
       "    }\n",
       "</style>\n",
       "<table border=\"1\" class=\"dataframe\">\n",
       "  <thead>\n",
       "    <tr style=\"text-align: right;\">\n",
       "      <th></th>\n",
       "      <th>ID</th>\n",
       "      <th>HI14</th>\n",
       "      <th>NUNEMP14</th>\n",
       "      <th>NNOHS14</th>\n",
       "      <th>NDEP14</th>\n",
       "      <th>NHOUS14</th>\n",
       "      <th>NPOV14</th>\n",
       "      <th>NINC14</th>\n",
       "      <th>HI17</th>\n",
       "      <th>NUNEMP17</th>\n",
       "      <th>NNOHS17</th>\n",
       "      <th>NDEP17</th>\n",
       "      <th>NHOUS17</th>\n",
       "      <th>NPOV17</th>\n",
       "      <th>NINC17</th>\n",
       "    </tr>\n",
       "  </thead>\n",
       "  <tbody>\n",
       "    <tr>\n",
       "      <th>0</th>\n",
       "      <td>1</td>\n",
       "      <td>39.7</td>\n",
       "      <td>14.088398</td>\n",
       "      <td>27.167630</td>\n",
       "      <td>36.337209</td>\n",
       "      <td>43.624161</td>\n",
       "      <td>38.294011</td>\n",
       "      <td>78.565975</td>\n",
       "      <td>39.4</td>\n",
       "      <td>14.678899</td>\n",
       "      <td>29.562044</td>\n",
       "      <td>30.744337</td>\n",
       "      <td>47.368421</td>\n",
       "      <td>33.577982</td>\n",
       "      <td>80.238503</td>\n",
       "    </tr>\n",
       "    <tr>\n",
       "      <th>1</th>\n",
       "      <td>2</td>\n",
       "      <td>44.3</td>\n",
       "      <td>16.022099</td>\n",
       "      <td>28.516378</td>\n",
       "      <td>68.604651</td>\n",
       "      <td>46.979866</td>\n",
       "      <td>26.315789</td>\n",
       "      <td>79.615727</td>\n",
       "      <td>47.3</td>\n",
       "      <td>17.431193</td>\n",
       "      <td>37.591241</td>\n",
       "      <td>68.608414</td>\n",
       "      <td>55.639098</td>\n",
       "      <td>22.935780</td>\n",
       "      <td>81.638675</td>\n",
       "    </tr>\n",
       "    <tr>\n",
       "      <th>2</th>\n",
       "      <td>3</td>\n",
       "      <td>29.9</td>\n",
       "      <td>16.298343</td>\n",
       "      <td>16.377649</td>\n",
       "      <td>25.000000</td>\n",
       "      <td>21.476510</td>\n",
       "      <td>38.112523</td>\n",
       "      <td>62.206388</td>\n",
       "      <td>31.5</td>\n",
       "      <td>11.314985</td>\n",
       "      <td>23.357664</td>\n",
       "      <td>24.595469</td>\n",
       "      <td>33.082707</td>\n",
       "      <td>31.192661</td>\n",
       "      <td>65.672095</td>\n",
       "    </tr>\n",
       "    <tr>\n",
       "      <th>3</th>\n",
       "      <td>4</td>\n",
       "      <td>23.8</td>\n",
       "      <td>10.220994</td>\n",
       "      <td>15.992293</td>\n",
       "      <td>32.848837</td>\n",
       "      <td>6.711409</td>\n",
       "      <td>17.785844</td>\n",
       "      <td>59.223820</td>\n",
       "      <td>21.7</td>\n",
       "      <td>3.975535</td>\n",
       "      <td>16.788321</td>\n",
       "      <td>29.449838</td>\n",
       "      <td>10.526316</td>\n",
       "      <td>11.926606</td>\n",
       "      <td>57.702163</td>\n",
       "    </tr>\n",
       "    <tr>\n",
       "      <th>4</th>\n",
       "      <td>5</td>\n",
       "      <td>14.9</td>\n",
       "      <td>1.104972</td>\n",
       "      <td>7.129094</td>\n",
       "      <td>38.081395</td>\n",
       "      <td>0.000000</td>\n",
       "      <td>5.807623</td>\n",
       "      <td>37.123044</td>\n",
       "      <td>16.9</td>\n",
       "      <td>2.140673</td>\n",
       "      <td>10.948905</td>\n",
       "      <td>50.161812</td>\n",
       "      <td>3.007519</td>\n",
       "      <td>1.651376</td>\n",
       "      <td>33.339405</td>\n",
       "    </tr>\n",
       "  </tbody>\n",
       "</table>\n",
       "</div>"
      ],
      "text/plain": [
       "   ID  HI14   NUNEMP14    NNOHS14     NDEP14    NHOUS14     NPOV14     NINC14  \\\n",
       "0   1  39.7  14.088398  27.167630  36.337209  43.624161  38.294011  78.565975   \n",
       "1   2  44.3  16.022099  28.516378  68.604651  46.979866  26.315789  79.615727   \n",
       "2   3  29.9  16.298343  16.377649  25.000000  21.476510  38.112523  62.206388   \n",
       "3   4  23.8  10.220994  15.992293  32.848837   6.711409  17.785844  59.223820   \n",
       "4   5  14.9   1.104972   7.129094  38.081395   0.000000   5.807623  37.123044   \n",
       "\n",
       "   HI17   NUNEMP17    NNOHS17     NDEP17    NHOUS17     NPOV17     NINC17  \n",
       "0  39.4  14.678899  29.562044  30.744337  47.368421  33.577982  80.238503  \n",
       "1  47.3  17.431193  37.591241  68.608414  55.639098  22.935780  81.638675  \n",
       "2  31.5  11.314985  23.357664  24.595469  33.082707  31.192661  65.672095  \n",
       "3  21.7   3.975535  16.788321  29.449838  10.526316  11.926606  57.702163  \n",
       "4  16.9   2.140673  10.948905  50.161812   3.007519   1.651376  33.339405  "
      ]
     },
     "execution_count": 7,
     "metadata": {},
     "output_type": "execute_result"
    }
   ],
   "source": [
    "df=pd.DataFrame()\n",
    "df[\"ID\"]=np.arange(1,78,1)\n",
    "df[\"HI14\"]=dfHI14[\"HI14\"]\n",
    "df[\"NUNEMP14\"]=normalized(dfHI14,\"UNEMP14\")\n",
    "df[\"NNOHS14\"]=normalized(dfHI14,\"NOHS14\")\n",
    "df[\"NDEP14\"]=normalized(dfHI14,\"DEP14\")\n",
    "df[\"NHOUS14\"]=normalized(dfHI14,\"HOUS14\")\n",
    "df[\"NPOV14\"]=normalized(dfHI14,\"POV14\")\n",
    "df[\"NINC14\"]=100-normalized(dfHI14,\"INC14\")\n",
    "df[\"HI17\"]=dfHI17[\"HI17\"]\n",
    "df[\"NUNEMP17\"]=normalized(dfHI17,\"UNEMP17\")\n",
    "df[\"NNOHS17\"]=normalized(dfHI17,\"NOHS17\")\n",
    "df[\"NDEP17\"]=normalized(dfHI17,\"DEP17\")\n",
    "df[\"NHOUS17\"]=normalized(dfHI17,\"HOUS17\")\n",
    "df[\"NPOV17\"]=normalized(dfHI17,\"POV17\")\n",
    "df[\"NINC17\"]=100-normalized(dfHI17,\"INC17\")\n",
    "df.to_excel(\"NHI20142017.xlsx\")  \n",
    "df.head(5)"
   ]
  },
  {
   "cell_type": "markdown",
   "metadata": {},
   "source": [
    "<h2>3. Five Number Summaries</h2>"
   ]
  },
  {
   "cell_type": "markdown",
   "metadata": {},
   "source": [
    "<h4>HOUS"
   ]
  },
  {
   "cell_type": "code",
   "execution_count": 10,
   "metadata": {},
   "outputs": [
    {
     "name": "stdout",
     "output_type": "stream",
     "text": [
      "0.3\n",
      "13.6\n",
      "2.87070805717617\n",
      "4.114285714285714\n",
      "3.3\n"
     ]
    }
   ],
   "source": [
    "x=dfHI17[\"HOUS17\"]\n",
    "import numpy\n",
    "print(numpy.min(x))\n",
    "print(numpy.max(x))\n",
    "print(numpy.std(x))\n",
    "print(numpy.mean(x))\n",
    "print(numpy.median(x))"
   ]
  },
  {
   "cell_type": "markdown",
   "metadata": {},
   "source": [
    "<h4>POV"
   ]
  },
  {
   "cell_type": "code",
   "execution_count": 11,
   "metadata": {},
   "outputs": [
    {
     "name": "stdout",
     "output_type": "stream",
     "text": [
      "4.3\n",
      "58.8\n",
      "10.879953977361415\n",
      "21.053246753246757\n",
      "20.2\n"
     ]
    }
   ],
   "source": [
    "x=dfHI17[\"POV17\"]\n",
    "import numpy\n",
    "print(numpy.min(x))\n",
    "print(numpy.max(x))\n",
    "print(numpy.std(x))\n",
    "print(numpy.mean(x))\n",
    "print(numpy.median(x))"
   ]
  },
  {
   "cell_type": "markdown",
   "metadata": {},
   "source": [
    "<h4>UNEMP"
   ]
  },
  {
   "cell_type": "code",
   "execution_count": 12,
   "metadata": {},
   "outputs": [
    {
     "name": "stdout",
     "output_type": "stream",
     "text": [
      "2.9\n",
      "35.6\n",
      "7.948286220127709\n",
      "12.71818181818182\n",
      "10.8\n"
     ]
    }
   ],
   "source": [
    "x=dfHI17[\"UNEMP17\"]\n",
    "import numpy\n",
    "print(numpy.min(x))\n",
    "print(numpy.max(x))\n",
    "print(numpy.std(x))\n",
    "print(numpy.mean(x))\n",
    "print(numpy.median(x))"
   ]
  },
  {
   "cell_type": "markdown",
   "metadata": {},
   "source": [
    "<h4>NOHS"
   ]
  },
  {
   "cell_type": "code",
   "execution_count": 13,
   "metadata": {},
   "outputs": [
    {
     "name": "stdout",
     "output_type": "stream",
     "text": [
      "1.4\n",
      "28.8\n",
      "6.159026795221826\n",
      "11.183116883116883\n",
      "9.7\n"
     ]
    }
   ],
   "source": [
    "x=dfHI17[\"NOHS17\"]\n",
    "import numpy\n",
    "print(numpy.min(x))\n",
    "print(numpy.max(x))\n",
    "print(numpy.std(x))\n",
    "print(numpy.mean(x))\n",
    "print(numpy.median(x))"
   ]
  },
  {
   "cell_type": "markdown",
   "metadata": {},
   "source": [
    "<h4>DEP"
   ]
  },
  {
   "cell_type": "code",
   "execution_count": 14,
   "metadata": {},
   "outputs": [
    {
     "name": "stdout",
     "output_type": "stream",
     "text": [
      "16.7\n",
      "47.6\n",
      "6.442850205626153\n",
      "35.41818181818181\n",
      "37.5\n"
     ]
    }
   ],
   "source": [
    "x=dfHI17[\"DEP17\"]\n",
    "import numpy\n",
    "print(numpy.min(x))\n",
    "print(numpy.max(x))\n",
    "print(numpy.std(x))\n",
    "print(numpy.mean(x))\n",
    "print(numpy.median(x))"
   ]
  },
  {
   "cell_type": "markdown",
   "metadata": {},
   "source": [
    "<h4>INC"
   ]
  },
  {
   "cell_type": "code",
   "execution_count": 15,
   "metadata": {},
   "outputs": [
    {
     "name": "stdout",
     "output_type": "stream",
     "text": [
      "9601\n",
      "91948\n",
      "17303.157509296765\n",
      "29016.025974025975\n",
      "23990.0\n"
     ]
    }
   ],
   "source": [
    "x=dfHI17[\"INC17\"]\n",
    "import numpy\n",
    "print(numpy.min(x))\n",
    "print(numpy.max(x))\n",
    "print(numpy.std(x))\n",
    "print(numpy.mean(x))\n",
    "print(numpy.median(x))"
   ]
  },
  {
   "cell_type": "markdown",
   "metadata": {},
   "source": [
    "<h4>Hardship Index"
   ]
  },
  {
   "cell_type": "code",
   "execution_count": 16,
   "metadata": {},
   "outputs": [
    {
     "name": "stdout",
     "output_type": "stream",
     "text": [
      "8.6\n",
      "84.2\n",
      "16.483798144900803\n",
      "43.729870129870136\n",
      "45.7\n"
     ]
    }
   ],
   "source": [
    "x=dfHI17[\"HI17\"]\n",
    "import numpy\n",
    "print(numpy.min(x))\n",
    "print(numpy.max(x))\n",
    "print(numpy.std(x))\n",
    "print(numpy.mean(x))\n",
    "print(numpy.median(x))"
   ]
  },
  {
   "cell_type": "markdown",
   "metadata": {},
   "source": [
    "<h2> 4. Boxplot Example"
   ]
  },
  {
   "cell_type": "code",
   "execution_count": 17,
   "metadata": {},
   "outputs": [],
   "source": [
    "import matplotlib.pyplot as plt"
   ]
  },
  {
   "cell_type": "code",
   "execution_count": 18,
   "metadata": {},
   "outputs": [
    {
     "data": {
      "text/plain": [
       "{'boxes': [<matplotlib.lines.Line2D at 0x1bacf797860>],\n",
       " 'caps': [<matplotlib.lines.Line2D at 0x1bacf7a0390>,\n",
       "  <matplotlib.lines.Line2D at 0x1bacf7a07f0>],\n",
       " 'fliers': [<matplotlib.lines.Line2D at 0x1bacf7aa0f0>],\n",
       " 'means': [],\n",
       " 'medians': [<matplotlib.lines.Line2D at 0x1bacf7a0c50>],\n",
       " 'whiskers': [<matplotlib.lines.Line2D at 0x1bacf7979b0>,\n",
       "  <matplotlib.lines.Line2D at 0x1bacf797ef0>]}"
      ]
     },
     "execution_count": 18,
     "metadata": {},
     "output_type": "execute_result"
    },
    {
     "data": {
      "image/png": "[encoded data removed]",
      "text/plain": [
       "<matplotlib.figure.Figure at 0x1bacf700e80>"
      ]
     },
     "metadata": {
      "needs_background": "light"
     },
     "output_type": "display_data"
    }
   ],
   "source": [
    "plt.boxplot(dfHI17[\"POV17\"])"
   ]
  }
 ],
 "metadata": {
  "kernelspec": {
   "display_name": "Python 3",
   "language": "python",
   "name": "python3"
  },
  "language_info": {
   "codemirror_mode": {
    "name": "ipython",
    "version": 3
   },
   "file_extension": ".py",
   "mimetype": "text/x-python",
   "name": "python",
   "nbconvert_exporter": "python",
   "pygments_lexer": "ipython3",
   "version": "3.6.4"
  }
 },
 "nbformat": 4,
 "nbformat_minor": 2
}
